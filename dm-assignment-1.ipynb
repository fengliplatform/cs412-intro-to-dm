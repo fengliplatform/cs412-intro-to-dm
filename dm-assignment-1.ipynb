{
 "cells": [
  {
   "cell_type": "code",
   "execution_count": 229,
   "metadata": {
    "collapsed": true
   },
   "outputs": [],
   "source": [
    "# read categories.txt\n",
    "lines = sc.textFile(\"file:///home/cloudera/illi/dm-w1-categories.txt\")"
   ]
  },
  {
   "cell_type": "code",
   "execution_count": 230,
   "metadata": {
    "collapsed": false
   },
   "outputs": [
    {
     "data": {
      "text/plain": [
       "77185"
      ]
     },
     "execution_count": 230,
     "metadata": {},
     "output_type": "execute_result"
    }
   ],
   "source": [
    "lines.count()"
   ]
  },
  {
   "cell_type": "code",
   "execution_count": 231,
   "metadata": {
    "collapsed": true
   },
   "outputs": [],
   "source": [
    "# use word count to calculate 1-item frequent and support(count)\n",
    "words = lines.flatMap(lambda line : line.split(\";\"))\n",
    "tuples = words.map(lambda word : (word, 1))\n",
    "counts = tuples.reduceByKey(lambda a, b: (a + b))\n",
    "counts.coalesce(1).saveAsTextFile('file:///home/cloudera/illi/count')"
   ]
  },
  {
   "cell_type": "code",
   "execution_count": 2,
   "metadata": {
    "collapsed": false,
    "scrolled": true
   },
   "outputs": [],
   "source": [
    "# part 1\n",
    "# read wordcount output file created above and change the format to meet part 1 requests.\n",
    "\n",
    "file1 = open(\"/home/cloudera/illi/count/part-00000\",\"r\")\n",
    "file2 = open(\"/home/cloudera/illi/part1.txt\",\"w\")\n",
    "file3 = open(\"/home/cloudera/illi/part1-rest.txt\",\"w\")\n",
    "\n",
    "for line in file1:\n",
    "    line = line.replace(\"\\\", \", \"', \")\n",
    "    line = line[1:-2]\n",
    "    line = line.split(\"', \")\n",
    "    support = line[1]\n",
    "    item = line[0]\n",
    "    #print(item)\n",
    "    item = item[1:]\n",
    "    #file2.write(\"%s:%s\\n\" % (support, item))\n",
    "    if int(support) >= 771:\n",
    "        file2.write(\"%s:%s\\n\" % (support, item))\n",
    "    else:\n",
    "        file3.write(\"%s:%s\\n\" % (support, item))\n",
    "\n",
    "file1.close()\n",
    "file2.close()\n",
    "file3.close()"
   ]
  },
  {
   "cell_type": "code",
   "execution_count": 57,
   "metadata": {
    "collapsed": true
   },
   "outputs": [],
   "source": [
    "# part 2 - 1\n",
    "# generating\n",
    "\n",
    "# generate 2-items from frequent 1-items part1.txt\n",
    "file1 = open(\"/home/cloudera/illi/part1.txt\",\"r\")\n",
    "file2 = open(\"/home/cloudera/illi/part2-two-items.txt\",\"w\")\n",
    "\n",
    "items_list = []\n",
    "\n",
    "for line in file1:\n",
    "    supp,item = line.split(\":\")\n",
    "    item = item[:-1]\n",
    "    items_list.append(item)\n",
    "    \n",
    "\n",
    "import itertools\n",
    "for subset in itertools.combinations(items_list, 2):\n",
    "    file2.write(\"%s;%s\\n\" % (subset[0], subset[1]))\n",
    "    \n",
    "file1.close()\n",
    "file2.close()"
   ]
  },
  {
   "cell_type": "code",
   "execution_count": 58,
   "metadata": {
    "collapsed": false,
    "scrolled": true
   },
   "outputs": [],
   "source": [
    "# part 2 - 2\n",
    "# trim data-  generate a new categories file that has removed infrequent 1-item categories.\n",
    "\n",
    "file1 = open(\"/home/cloudera/illi/part1-rest.txt\", \"r\")\n",
    "\n",
    "infrequent_list = []\n",
    "for line in file1:\n",
    "    supp,item = line.split(\":\")\n",
    "    infrequent_list.append(item)\n",
    "    \n",
    "file2 = open(\"/home/cloudera/illi/dm-w1-categories.txt\", \"r\")\n",
    "file3 = open(\"/home/cloudera/illi/categories-drop-infrequent-1-item.txt\", \"w\")\n",
    "\n",
    "for line in file2:\n",
    "    flag = 0\n",
    "    for item in infrequent_list:\n",
    "        item = item[:-1]\n",
    "        if item in line:\n",
    "            flag = 1\n",
    "            break;\n",
    "    if flag == 0:\n",
    "        file3.write(line)\n",
    "\n",
    "file1.close()\n",
    "file2.close()\n",
    "file3.close()"
   ]
  },
  {
   "cell_type": "code",
   "execution_count": 59,
   "metadata": {
    "collapsed": true
   },
   "outputs": [],
   "source": [
    "# remove 1-item transaction as we are working on 2-item and above transactions.\n",
    "file1 = open(\"/home/cloudera/illi/categories-drop-infrequent-1-item.txt\", \"r\")\n",
    "file2 = open(\"/home/cloudera/illi/categories-drop-all-1-item.txt\", \"w\")\n",
    "\n",
    "for line in file1:\n",
    "    if \";\" in line:\n",
    "        file2.write(line)\n",
    "\n",
    "file1.close()\n",
    "file2.close()"
   ]
  },
  {
   "cell_type": "code",
   "execution_count": 60,
   "metadata": {
    "collapsed": false,
    "scrolled": true
   },
   "outputs": [],
   "source": [
    "# remove lines from generated 2-items file if they are not in any actual transaction lines\n",
    "# this could be skip as those 2-items will have zero support in next support calculation.\n",
    "\n",
    "file1 = open(\"/home/cloudera/illi/categories-drop-all-1-item.txt\", \"r\")\n",
    "file2 = open(\"/home/cloudera/illi/part2-two-items.txt\", \"r\")\n",
    "file3 = open(\"/home/cloudera/illi/part2-two-items2.txt\", \"w\")\n",
    "\n",
    "for line2 in file2:\n",
    "    item1,item2 = line2.split(\";\")\n",
    "    item2 = item2[:-1]\n",
    "    \n",
    "    file1.seek(0, 0)\n",
    "    for line1 in file1:\n",
    "        if (item1 in line1) and (item2 in line1):\n",
    "            file3.write(line2)\n",
    "            break\n",
    "\n",
    "file1.close()\n",
    "file2.close()\n",
    "file3.close()"
   ]
  },
  {
   "cell_type": "code",
   "execution_count": 61,
   "metadata": {
    "collapsed": true
   },
   "outputs": [],
   "source": [
    "# now calculate support for the 2-item categories\n",
    "\n",
    "file1 = open(\"/home/cloudera/illi/categories-drop-all-1-item.txt\", \"r\")\n",
    "file2 = open(\"/home/cloudera/illi/part2-two-items2.txt\", \"r\")\n",
    "file3 = open(\"/home/cloudera/illi/part2-two-items-final.txt\", \"w\")\n",
    "file4 = open(\"/home/cloudera/illi/part2-two-items-infrequent.txt\", \"w\")\n",
    "\n",
    "for line2 in file2:\n",
    "    item1,item2 = line2.split(\";\")\n",
    "    item2 = item2[:-1]\n",
    "    \n",
    "    supp = 0\n",
    "    file1.seek(0, 0)\n",
    "    for line1 in file1:\n",
    "        if (item1 in line1) and (item2 in line1):\n",
    "            supp = supp + 1\n",
    "    \n",
    "    if supp >= 771:\n",
    "        file3.write(\"%s:%s\" % (supp,line2))\n",
    "    else:\n",
    "        file4.write(\"%s:%s\" % (supp,line2))\n",
    "\n",
    "file1.close()\n",
    "file2.close()\n",
    "file3.close()\n",
    "file4.close()"
   ]
  },
  {
   "cell_type": "code",
   "execution_count": 62,
   "metadata": {
    "collapsed": false
   },
   "outputs": [],
   "source": [
    "# now we can work on 3-items categories\n",
    "# generate 3-item categories\n",
    "\n",
    "file1 = open(\"/home/cloudera/illi/part2-two-items-final.txt\", \"r\")\n",
    "file2 = open(\"/home/cloudera/illi/part2-three-items.txt\", \"w\")\n",
    "\n",
    "items_list = []\n",
    "for line in file1:\n",
    "    supp,items = line.split(\":\")\n",
    "    item1,item2 = items.split(\";\")\n",
    "    item2 = item2[:-1]\n",
    "    if item1 not in items_list:\n",
    "        items_list.append(item1)\n",
    "    if item2 not in items_list:\n",
    "        items_list.append(item2)\n",
    "    \n",
    "#print(len(items_list))\n",
    "#print(\";\".join(items_list))\n",
    "\n",
    "import itertools\n",
    "for subset in itertools.combinations(items_list, 3):\n",
    "    file2.write(\"%s;%s;%s\\n\" % (subset[0], subset[1], subset[2]))\n",
    "\n",
    "file1.close()\n",
    "file2.close()"
   ]
  },
  {
   "cell_type": "code",
   "execution_count": 63,
   "metadata": {
    "collapsed": false
   },
   "outputs": [],
   "source": [
    "# Transactions: \n",
    "# 1. delete 2-items transactions as we are working on three\n",
    "# 2. delete transactions that include infrequent 2-items\n",
    "\n",
    "file1 = open(\"/home/cloudera/illi/categories-drop-all-1-item.txt\", \"r\")\n",
    "file2 = open(\"/home/cloudera/illi/categories-drop-all-2-item.txt\", \"w\")\n",
    "\n",
    "for line in file1:\n",
    "    if line.count(';') > 1:\n",
    "        file2.write(line)\n",
    "\n",
    "\n",
    "file1.close()\n",
    "file2.close()\n",
    "\n",
    "file3 = open(\"/home/cloudera/illi/part2-two-items-infrequent.txt\", \"r\")\n",
    "file4 = open(\"/home/cloudera/illi/categories-drop-all-2-item.txt\", \"r\")\n",
    "file5 = open(\"/home/cloudera/illi/categories-drop-all-2-item2.txt\", \"w\")\n",
    "\n",
    "for line4 in file4:\n",
    "    flag = 0\n",
    "    file3.seek(0, 0)\n",
    "    for line3 in file3:\n",
    "        supp,items = line3.split(\":\")\n",
    "        item1,item2 = items.split(\";\")\n",
    "        item2 = item2[:-1]\n",
    "        if (item1 in line4) and (item2 in line4):\n",
    "            flag = 1\n",
    "            break\n",
    "    if flag == 0:\n",
    "        file5.write(line4)\n",
    "\n",
    "file3.close()\n",
    "file4.close()\n",
    "file5.close()"
   ]
  },
  {
   "cell_type": "code",
   "execution_count": 64,
   "metadata": {
    "collapsed": true
   },
   "outputs": [],
   "source": [
    "# 3-item categories\n",
    "# remove that are not in any transactions\n",
    "\n",
    "file1 = open(\"/home/cloudera/illi/categories-drop-all-2-item2.txt\", \"r\")\n",
    "file2 = open(\"/home/cloudera/illi/part2-three-items.txt\", \"r\")\n",
    "file3 = open(\"/home/cloudera/illi/part2-three-items2.txt\", \"w\")\n",
    "\n",
    "\n",
    "for line2 in file2:\n",
    "    item1,item2,item3 = line2.split(\";\")\n",
    "    item3 = item3[:-1]\n",
    "    \n",
    "    file1.seek(0, 0)\n",
    "    for line1 in file1:\n",
    "        if (item1 in line1) and (item2 in line1) and (item3 in line1):\n",
    "            file3.write(line2)\n",
    "            break\n",
    "\n",
    "file1.close()\n",
    "file2.close()\n",
    "file3.close()"
   ]
  },
  {
   "cell_type": "code",
   "execution_count": 65,
   "metadata": {
    "collapsed": true
   },
   "outputs": [],
   "source": [
    "# calculate support for 3-item categories\n",
    "file1 = open(\"/home/cloudera/illi/categories-drop-all-2-item2.txt\", \"r\")\n",
    "file2 = open(\"/home/cloudera/illi/part2-three-items2.txt\", \"r\")\n",
    "file3 = open(\"/home/cloudera/illi/part2-three-items-final.txt\", \"w\")\n",
    "file4 = open(\"/home/cloudera/illi/part2-three-items-infrequent.txt\", \"w\")\n",
    "\n",
    "for line2 in file2:\n",
    "    item1,item2,item3 = line2.split(\";\")\n",
    "    item3 = item3[:-1]\n",
    "    \n",
    "    supp = 0\n",
    "    file1.seek(0, 0)\n",
    "    for line1 in file1:\n",
    "        if (item1 in line1) and (item2 in line1) and (item3 in line1):\n",
    "            supp = supp + 1\n",
    "    \n",
    "    if supp >= 771:\n",
    "        file3.write(\"%s:%s\" % (supp,line2))\n",
    "    else:\n",
    "        file4.write(\"%s:%s\" % (supp,line2))\n",
    "\n",
    "file1.close()\n",
    "file2.close()\n",
    "file3.close()\n",
    "file4.close()\n"
   ]
  },
  {
   "cell_type": "code",
   "execution_count": 66,
   "metadata": {
    "collapsed": false
   },
   "outputs": [
    {
     "name": "stdout",
     "output_type": "stream",
     "text": [
      "3\n",
      "Hotels & Travel;Hotels;Event Planning & Services\n"
     ]
    }
   ],
   "source": [
    "# 4- items generation\n",
    "\n",
    "file1 = open(\"/home/cloudera/illi/part2-three-items-final.txt\", \"r\")\n",
    "file2 = open(\"/home/cloudera/illi/part2-four-items.txt\", \"w\")\n",
    "\n",
    "items_list = []\n",
    "for line in file1:\n",
    "    supp,items = line.split(\":\")\n",
    "    item1,item2,item3 = items.split(\";\")\n",
    "    item3 = item3[:-1]\n",
    "    if item1 not in items_list:\n",
    "        items_list.append(item1)\n",
    "    if item2 not in items_list:\n",
    "        items_list.append(item2)\n",
    "    if item3 not in items_list:\n",
    "        items_list.append(item3)\n",
    "    \n",
    "print(len(items_list))\n",
    "print(\";\".join(items_list))\n",
    "\n",
    "import itertools\n",
    "for subset in itertools.combinations(items_list, 4):\n",
    "    file2.write(\"%s;%s;%s;%s\\n\" % (subset[0], subset[1], subset[2], subset[3]))\n",
    "\n",
    "file1.close()\n",
    "file2.close()"
   ]
  },
  {
   "cell_type": "code",
   "execution_count": 68,
   "metadata": {
    "collapsed": true
   },
   "outputs": [],
   "source": [
    "# so there is no four frequent item transactions \n",
    "# as the three frequent items only have three different items\n",
    "# Hotels & Travel,   Hotels,   Event Planning & Services\n",
    "# So there is no way to create four item combination.\n",
    "\n",
    "# so next we can join 1-item frequent, 2-item frequent and 3-item frequent to be\n",
    "# one file for part 2 submission.\n",
    "# part1.txt\n",
    "# part2-two-items-final.txt\n",
    "# part2-three-items-final.txt\n",
    "\n",
    "filenames = ['/home/cloudera/illi/part1.txt', '/home/cloudera/illi/part2-two-items-final.txt', \n",
    "             '/home/cloudera/illi/part2-three-items-final.txt']\n",
    "with open('/home/cloudera/illi/part2-final.txt', 'w') as outfile:\n",
    "    for fname in filenames:\n",
    "        with open(fname) as infile:\n",
    "            for line in infile:\n",
    "                outfile.write(line)"
   ]
  },
  {
   "cell_type": "code",
   "execution_count": null,
   "metadata": {
    "collapsed": true
   },
   "outputs": [],
   "source": []
  }
 ],
 "metadata": {
  "kernelspec": {
   "display_name": "Python 3",
   "language": "python",
   "name": "python3"
  },
  "language_info": {
   "codemirror_mode": {
    "name": "ipython",
    "version": 3
   },
   "file_extension": ".py",
   "mimetype": "text/x-python",
   "name": "python",
   "nbconvert_exporter": "python",
   "pygments_lexer": "ipython3",
   "version": "3.5.1"
  }
 },
 "nbformat": 4,
 "nbformat_minor": 0
}
